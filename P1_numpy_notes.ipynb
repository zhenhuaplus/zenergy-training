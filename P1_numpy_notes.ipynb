{
 "cells": [
  {
   "cell_type": "markdown",
   "metadata": {},
   "source": [
    "# Numpy (Python) 笔记"
   ]
  },
  {
   "cell_type": "markdown",
   "metadata": {},
   "source": [
    "NumPy是使用Python进行科学计算的基础软件包。包括：1)功能强大的N维数组对象。2)精密广播功能函数。3)集成C/C+和Fortran代码的工具。4)强大的线性代数、傅立叶变换和随机数功能。\n",
    "\n",
    "NumPy 最重要的一个特点是其 N 维数组对象 ndarray，它是一系列同类型数据的集合，以 0 下标为开始进行集合中元素的索引。ndarray 对象是用于存放同类型元素的多维数组。ndarray 中的每个元素在内存中都有相同存储大小的区域。\n",
    "ndarray对象的内容可以通过索引或切片来访问和修改，与 Python 中 list 的切片操作一样。ndarray 数组可以基于 0 - n 的下标进行索引，切片对象可以通过内置的 slice 函数，并设置 start, stop 及 step 参数进行，从原数组中切割出一个新数组。"
   ]
  },
  {
   "cell_type": "markdown",
   "metadata": {},
   "source": [
    "---"
   ]
  },
  {
   "cell_type": "code",
   "execution_count": 2,
   "metadata": {
    "ExecuteTime": {
     "end_time": "2022-07-22T01:09:09.701094Z",
     "start_time": "2022-07-22T01:09:08.221723Z"
    }
   },
   "outputs": [],
   "source": [
    "import numpy as np"
   ]
  },
  {
   "cell_type": "markdown",
   "metadata": {},
   "source": [
    "## 生成长度为10的零向量，第五个数为1"
   ]
  },
  {
   "cell_type": "code",
   "execution_count": 3,
   "metadata": {
    "ExecuteTime": {
     "end_time": "2022-07-18T06:56:25.980361Z",
     "start_time": "2022-07-18T06:56:25.963361Z"
    }
   },
   "outputs": [
    {
     "data": {
      "text/plain": [
       "array([0., 0., 0., 0., 1., 0., 0., 0., 0., 0.])"
      ]
     },
     "execution_count": 3,
     "metadata": {},
     "output_type": "execute_result"
    }
   ],
   "source": [
    "# a null vector of size 10, with 5th value as 1\n",
    "z = np.zeros(10)\n",
    "z[4] = 1\n",
    "z"
   ]
  },
  {
   "cell_type": "markdown",
   "metadata": {},
   "source": [
    "## 生成一个3x3的矩阵，数值依次为0至8"
   ]
  },
  {
   "cell_type": "code",
   "execution_count": 4,
   "metadata": {
    "ExecuteTime": {
     "end_time": "2022-07-18T06:56:28.072642Z",
     "start_time": "2022-07-18T06:56:28.065035Z"
    }
   },
   "outputs": [
    {
     "data": {
      "text/plain": [
       "array([[0, 1, 2],\n",
       "       [3, 4, 5],\n",
       "       [6, 7, 8]])"
      ]
     },
     "execution_count": 4,
     "metadata": {},
     "output_type": "execute_result"
    }
   ],
   "source": [
    "# a 3x3 matrix with values ranging from 0 to 8\n",
    "z = np.arange(0,9).reshape(3,3)\n",
    "z"
   ]
  },
  {
   "cell_type": "markdown",
   "metadata": {},
   "source": [
    "## 将一个向量倒置"
   ]
  },
  {
   "cell_type": "code",
   "execution_count": 6,
   "metadata": {
    "ExecuteTime": {
     "end_time": "2022-07-18T06:57:14.527811Z",
     "start_time": "2022-07-18T06:57:14.520956Z"
    }
   },
   "outputs": [
    {
     "data": {
      "text/plain": [
       "[3, 2, 1]"
      ]
     },
     "execution_count": 6,
     "metadata": {},
     "output_type": "execute_result"
    }
   ],
   "source": [
    "# reverse a vector\n",
    "z = [1, 2, 3]\n",
    "z = z[::-1]\n",
    "z"
   ]
  },
  {
   "cell_type": "markdown",
   "metadata": {},
   "source": [
    "## 生成一个3x3的单位矩阵，和一个3x3数值都为1的矩阵"
   ]
  },
  {
   "cell_type": "code",
   "execution_count": 7,
   "metadata": {
    "ExecuteTime": {
     "end_time": "2022-07-18T06:59:44.831676Z",
     "start_time": "2022-07-18T06:59:44.824688Z"
    }
   },
   "outputs": [
    {
     "name": "stdout",
     "output_type": "stream",
     "text": [
      "[[1. 0. 0.]\n",
      " [0. 1. 0.]\n",
      " [0. 0. 1.]]\n",
      "[[1. 1. 1.]\n",
      " [1. 1. 1.]\n",
      " [1. 1. 1.]]\n"
     ]
    }
   ],
   "source": [
    "# a 3x3 identity matrix\n",
    "z = np.eye(3)\n",
    "print(z)\n",
    "# a 3x3 matrix with values = 1\n",
    "z = np.ones((3,3))\n",
    "print(z)"
   ]
  },
  {
   "cell_type": "markdown",
   "metadata": {},
   "source": [
    "## 生成一个3x2的矩阵，数值都为随机数"
   ]
  },
  {
   "cell_type": "code",
   "execution_count": 5,
   "metadata": {
    "ExecuteTime": {
     "end_time": "2022-07-22T01:09:18.019756Z",
     "start_time": "2022-07-22T01:09:18.014822Z"
    }
   },
   "outputs": [
    {
     "data": {
      "text/plain": [
       "array([[0.1020582 , 0.629938  ],\n",
       "       [0.56906957, 0.5652367 ],\n",
       "       [0.26452785, 0.88756775]])"
      ]
     },
     "execution_count": 5,
     "metadata": {},
     "output_type": "execute_result"
    }
   ],
   "source": [
    "# a 3x2 matrix with random values\n",
    "z = np.random.rand(3,2)\n",
    "z"
   ]
  },
  {
   "cell_type": "markdown",
   "metadata": {},
   "source": [
    "## 输出上述矩阵的最大值、最小值和平均值，并将该矩阵正态化 "
   ]
  },
  {
   "cell_type": "code",
   "execution_count": 10,
   "metadata": {
    "ExecuteTime": {
     "end_time": "2022-07-18T07:01:35.514433Z",
     "start_time": "2022-07-18T07:01:35.507118Z"
    }
   },
   "outputs": [
    {
     "data": {
      "text/plain": [
       "array([[1.        , 0.3545928 ],\n",
       "       [0.52038012, 0.        ],\n",
       "       [0.13761335, 0.31123769]])"
      ]
     },
     "execution_count": 10,
     "metadata": {},
     "output_type": "execute_result"
    }
   ],
   "source": [
    "# find the minimum, maximum and mean\n",
    "z.min()\n",
    "z.max()\n",
    "z.mean()\n",
    "# normalize this matrix\n",
    "z = (z - z.min())/(z.max() - z.min())\n",
    "z"
   ]
  },
  {
   "cell_type": "markdown",
   "metadata": {},
   "source": [
    "## 矩阵的点乘"
   ]
  },
  {
   "cell_type": "code",
   "execution_count": 62,
   "metadata": {},
   "outputs": [
    {
     "data": {
      "text/plain": [
       "array([[3., 3.],\n",
       "       [3., 3.],\n",
       "       [3., 3.],\n",
       "       [3., 3.],\n",
       "       [3., 3.]])"
      ]
     },
     "execution_count": 62,
     "metadata": {},
     "output_type": "execute_result"
    }
   ],
   "source": [
    "# multiply a 5x3 matrix by a 3x2 matrix\n",
    "# watch out the brackets for ONES!\n",
    "np.dot(np.ones((5,3)), np.ones((3,2)))"
   ]
  },
  {
   "cell_type": "markdown",
   "metadata": {},
   "source": [
    "## 生成一个数列，并删除所有大于3且小于8的数"
   ]
  },
  {
   "cell_type": "code",
   "execution_count": 11,
   "metadata": {
    "ExecuteTime": {
     "end_time": "2022-07-18T07:03:08.358884Z",
     "start_time": "2022-07-18T07:03:08.351464Z"
    }
   },
   "outputs": [
    {
     "data": {
      "text/plain": [
       "array([ 0,  1,  2,  3,  4,  5,  6,  7,  8,  9, 10])"
      ]
     },
     "execution_count": 11,
     "metadata": {},
     "output_type": "execute_result"
    }
   ],
   "source": [
    "# given a 1D array, neglecting all elements from 3 to 8\n",
    "z = np.arange(11)\n",
    "z[(z < 3) | (z > 8)]\n",
    "z"
   ]
  },
  {
   "cell_type": "markdown",
   "metadata": {},
   "source": [
    "## 生成一个长度为10的向量，首尾分别为0和1"
   ]
  },
  {
   "cell_type": "code",
   "execution_count": 13,
   "metadata": {
    "ExecuteTime": {
     "end_time": "2022-07-18T07:03:52.430434Z",
     "start_time": "2022-07-18T07:03:52.426101Z"
    }
   },
   "outputs": [
    {
     "data": {
      "text/plain": [
       "array([0.        , 0.09090909, 0.18181818, 0.27272727, 0.36363636,\n",
       "       0.45454545, 0.54545455, 0.63636364, 0.72727273, 0.81818182,\n",
       "       0.90909091, 1.        ])"
      ]
     },
     "execution_count": 13,
     "metadata": {},
     "output_type": "execute_result"
    }
   ],
   "source": [
    "# a vector of size 10 with values ranging from 0 to 1\n",
    "z = np.linspace(0,1,12)\n",
    "z"
   ]
  },
  {
   "cell_type": "markdown",
   "metadata": {},
   "source": [
    "## 生成一个长度为10的随机向量，并从小到大依次排序"
   ]
  },
  {
   "cell_type": "code",
   "execution_count": 15,
   "metadata": {
    "ExecuteTime": {
     "end_time": "2022-07-18T07:05:50.711363Z",
     "start_time": "2022-07-18T07:05:50.703680Z"
    }
   },
   "outputs": [
    {
     "data": {
      "text/plain": [
       "array([0.06947734, 0.10656195, 0.36068987, 0.65391738, 0.7312718 ,\n",
       "       0.73334269, 0.76963467, 0.84870418, 0.95094765, 0.98214646])"
      ]
     },
     "execution_count": 15,
     "metadata": {},
     "output_type": "execute_result"
    }
   ],
   "source": [
    "# a random vector of size 10 and sort it\n",
    "z = np.sort(np.random.rand(10))\n",
    "z"
   ]
  },
  {
   "cell_type": "markdown",
   "metadata": {},
   "source": [
    "## 生成一个长度为10的随机向量，并将最大值替换为0"
   ]
  },
  {
   "cell_type": "code",
   "execution_count": 16,
   "metadata": {
    "ExecuteTime": {
     "end_time": "2022-07-18T07:06:23.909203Z",
     "start_time": "2022-07-18T07:06:23.903614Z"
    }
   },
   "outputs": [],
   "source": [
    "# a random vector of size 10, and replace the maximum value by 0\n",
    "z= np.random.rand(10)\n",
    "z[np.argmax(z)] = 0"
   ]
  },
  {
   "cell_type": "markdown",
   "metadata": {},
   "source": [
    "## 找到一个数列中最接近目标值的数所在的位置及其大小"
   ]
  },
  {
   "cell_type": "code",
   "execution_count": 17,
   "metadata": {
    "ExecuteTime": {
     "end_time": "2022-07-18T07:11:30.646619Z",
     "start_time": "2022-07-18T07:11:30.634360Z"
    }
   },
   "outputs": [
    {
     "data": {
      "text/plain": [
       "0.5919683584033679"
      ]
     },
     "execution_count": 17,
     "metadata": {},
     "output_type": "execute_result"
    }
   ],
   "source": [
    "# how to find the closest value and its index to a given scalar in an array?\n",
    "z = np.random.rand(20)\n",
    "value = np.random.uniform(0,1) # samples uniformly distribtued in [0,1)\n",
    "index = np.argmin(np.abs(z-value))\n",
    "z[index]"
   ]
  },
  {
   "cell_type": "markdown",
   "metadata": {},
   "source": [
    "## 将整数数列转化为浮点型"
   ]
  },
  {
   "cell_type": "code",
   "execution_count": 110,
   "metadata": {},
   "outputs": [
    {
     "data": {
      "text/plain": [
       "array([0., 1., 2., 3., 4., 5., 6., 7., 8., 9.])"
      ]
     },
     "execution_count": 110,
     "metadata": {},
     "output_type": "execute_result"
    }
   ],
   "source": [
    "# convert an integer array to a float array\n",
    "z = np.arange(10)\n",
    "z.astype(np.float)"
   ]
  },
  {
   "cell_type": "markdown",
   "metadata": {},
   "source": [
    "## 将矩阵的每一个数减去所在行/列的平均值"
   ]
  },
  {
   "cell_type": "code",
   "execution_count": 20,
   "metadata": {
    "ExecuteTime": {
     "end_time": "2022-07-18T07:22:50.475287Z",
     "start_time": "2022-07-18T07:22:50.469186Z"
    }
   },
   "outputs": [
    {
     "data": {
      "text/plain": [
       "array([[0.92156539, 0.19426958, 0.99297289, 0.32340972, 0.20048656],\n",
       "       [0.60408336, 0.31642803, 0.86878059, 0.87678555, 0.36802635],\n",
       "       [0.22025893, 0.06598462, 0.9064989 , 0.61075016, 0.38054605],\n",
       "       [0.13545996, 0.83704157, 0.08004936, 0.91189374, 0.66820949],\n",
       "       [0.91255528, 0.07460582, 0.97237639, 0.600175  , 0.4903478 ],\n",
       "       [0.56279441, 0.58550951, 0.03473012, 0.38456389, 0.57734026],\n",
       "       [0.66593761, 0.37471689, 0.25634736, 0.26315357, 0.63728125],\n",
       "       [0.04045642, 0.39560375, 0.4651083 , 0.59508473, 0.47899138],\n",
       "       [0.84526921, 0.0559703 , 0.04509691, 0.28424103, 0.22387573],\n",
       "       [0.18953497, 0.4247346 , 0.35178896, 0.08701679, 0.68457922]])"
      ]
     },
     "execution_count": 20,
     "metadata": {},
     "output_type": "execute_result"
    }
   ],
   "source": [
    "# subtract the mean/max/min of each row/column of a matrix\n",
    "z = np.random.rand(10,5)\n",
    "a = z - z.mean(axis = 1).reshape(-1,1)\n",
    "# axis = 1 as row\n",
    "z"
   ]
  },
  {
   "cell_type": "markdown",
   "metadata": {},
   "source": [
    "## 将数列[1, 2, 3, 4, 5]每两个书之间插入3个0"
   ]
  },
  {
   "cell_type": "code",
   "execution_count": 21,
   "metadata": {
    "ExecuteTime": {
     "end_time": "2022-07-18T07:24:13.389625Z",
     "start_time": "2022-07-18T07:24:13.381653Z"
    }
   },
   "outputs": [
    {
     "data": {
      "text/plain": [
       "array([1., 0., 0., 0., 2., 0., 0., 0., 3., 0., 0., 0., 4., 0., 0., 0., 5.])"
      ]
     },
     "execution_count": 21,
     "metadata": {},
     "output_type": "execute_result"
    }
   ],
   "source": [
    "# consider the vector [1,2,3,4,5], build a new vector with 3 consecutive zeros interleaved between each value\n",
    "z = np.array([1,2,3,4,5])\n",
    "z0 = np.zeros(len(z) + (len(z)-1) * 3) # original vector + vector of 0\n",
    "z0[::4] = z\n",
    "z0"
   ]
  },
  {
   "cell_type": "markdown",
   "metadata": {},
   "source": [
    "## 将矩阵的第0、1行或列互换位置"
   ]
  },
  {
   "cell_type": "code",
   "execution_count": 164,
   "metadata": {},
   "outputs": [],
   "source": [
    "# swap two rows (row 0 and row 1) of an array?\n",
    "z = np.random.uniform(0,10,25).reshape(5,5)\n",
    "z[[0,1]] = z[[1,0]]\n",
    "# swap two columns (column 0 and column 1) of an array?\n",
    "z[:,[0,1]] = z[:,[1,0]]"
   ]
  },
  {
   "cell_type": "markdown",
   "metadata": {},
   "source": [
    "## 输出一个数列中每n个数的平均值 "
   ]
  },
  {
   "cell_type": "code",
   "execution_count": 185,
   "metadata": {},
   "outputs": [
    {
     "name": "stdout",
     "output_type": "stream",
     "text": [
      "[4.45299954 4.80837571 3.45130001 4.76289969 6.27048065 7.48874799\n",
      " 7.38068191 7.13729162 7.51151171 5.4302598  6.31378784 4.16665806\n",
      " 5.7624401  3.11907633 3.20833366 1.83374191 3.05470636 2.38823077]\n"
     ]
    }
   ],
   "source": [
    "# compute averages using a sliding window over an array\n",
    "# CUMSUM!\n",
    "z = np.random.uniform(0,10,20)\n",
    "def moving_avg(a,n=3):\n",
    "    ret = np.cumsum(z)\n",
    "    # 0, 1, 2,..., n-1 unchanged\n",
    "    ret[n:] = ret[n:] - ret[:-n]\n",
    "    return ret[n-1:]/n\n",
    "print(moving_avg(z,3))"
   ]
  },
  {
   "cell_type": "markdown",
   "metadata": {},
   "source": [
    "## 找到一个数列中最频繁出现的值"
   ]
  },
  {
   "cell_type": "code",
   "execution_count": 191,
   "metadata": {},
   "outputs": [
    {
     "data": {
      "text/plain": [
       "2"
      ]
     },
     "execution_count": 191,
     "metadata": {},
     "output_type": "execute_result"
    }
   ],
   "source": [
    "# find the most frequent value in an array\n",
    "# BINCOUNT!\n",
    "z = np.random.randint(0,10,50)\n",
    "np.argmax(np.bincount(z))"
   ]
  },
  {
   "cell_type": "markdown",
   "metadata": {},
   "source": [
    "## 找到一个数列中前n个最大值"
   ]
  },
  {
   "cell_type": "code",
   "execution_count": 220,
   "metadata": {},
   "outputs": [
    {
     "data": {
      "text/plain": [
       "array([7.50615224, 8.33858471, 9.04815743, 9.47395729, 9.91732865])"
      ]
     },
     "execution_count": 220,
     "metadata": {},
     "output_type": "execute_result"
    }
   ],
   "source": [
    "# find the n largest values of an array\n",
    "# ARGSORT!\n",
    "z = np.random.uniform(0,10,10)\n",
    "z[np.argsort(z)[-5:]]"
   ]
  },
  {
   "cell_type": "code",
   "execution_count": null,
   "metadata": {},
   "outputs": [],
   "source": []
  }
 ],
 "metadata": {
  "hide_input": false,
  "kernelspec": {
   "display_name": "Python 3 (ipykernel)",
   "language": "python",
   "name": "python3"
  },
  "language_info": {
   "codemirror_mode": {
    "name": "ipython",
    "version": 3
   },
   "file_extension": ".py",
   "mimetype": "text/x-python",
   "name": "python",
   "nbconvert_exporter": "python",
   "pygments_lexer": "ipython3",
   "version": "3.9.12"
  },
  "toc": {
   "base_numbering": 1,
   "nav_menu": {},
   "number_sections": true,
   "sideBar": true,
   "skip_h1_title": false,
   "title_cell": "Table of Contents",
   "title_sidebar": "Contents",
   "toc_cell": false,
   "toc_position": {},
   "toc_section_display": true,
   "toc_window_display": true
  }
 },
 "nbformat": 4,
 "nbformat_minor": 2
}
